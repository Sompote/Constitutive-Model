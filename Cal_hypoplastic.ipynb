{
  "nbformat": 4,
  "nbformat_minor": 0,
  "metadata": {
    "colab": {
      "name": "Cal_hypoplastic.ipynb",
      "provenance": []
    },
    "kernelspec": {
      "name": "python3",
      "display_name": "Python 3"
    }
  },
  "cells": [
    {
      "cell_type": "code",
      "metadata": {
        "id": "eLequAfCCjGq",
        "colab_type": "code",
        "colab": {}
      },
      "source": [
        "'''\n",
        "hypoplastic model Wu(1992)\n",
        "by Dr. Sompote Youwai\n",
        "KMUTT 2020\n",
        "'''\n",
        "import numpy as np\n",
        "from sympy import *\n",
        "from sympy.solvers import solve\n",
        "import pandas as pd\n",
        "import matplotlib.pyplot as plt\n",
        "\n",
        "from numpy import array #add symbol to system from sympy\n",
        "T1, T2, T3 = symbols('T1 T2 T3')\n",
        "D1, D2, D3 = symbols('D1 D2 D3')\n",
        "dT1, dT2, dT3 = symbols('dT1 dT2 dT3')\n",
        "C1, C2, C3, C4 = symbols('C1 C2 C3 C4')\n"
      ],
      "execution_count": 0,
      "outputs": []
    },
    {
      "cell_type": "markdown",
      "metadata": {
        "id": "yeH6fenrIXlb",
        "colab_type": "text"
      },
      "source": [
        " Define Model"
      ]
    },
    {
      "cell_type": "code",
      "metadata": {
        "id": "nt8Xc-E9DobE",
        "colab_type": "code",
        "colab": {}
      },
      "source": [
        "T = array([[T1,0,0],[0,T2,0],[0,0,T2]]) #form tensor from array \n",
        "D = array([[D1,0,0],[0,D2,0],[0,0,D2]])\n",
        "dT= array([[dT1,0,0],[0,dT2,0],[0,0,dT2]])\n",
        "trT= T1+T2+T2\n",
        "trD=D1+D2+D2\n",
        "trD2=(D1**2)+(2*(D2**2))\n",
        "trTD =T1*D1+T2*D2+T2*D2\n",
        "Tstr=T-trT/3*array([[1,0,0],[0,1,0],[0,0,1]])\n",
        "#Hypoplastic Equation\n",
        "Eq=C1*trT*D+C2*trTD/trT*T+C3*T**2*sqrt(trD2)/trT+C4*(Tstr**2)*sqrt(trD2)/trT\n",
        "### get value from array\n",
        "axeqq1=Eq[0,0]\n",
        "axeqq2=Eq[1,1]\n"
      ],
      "execution_count": 0,
      "outputs": []
    },
    {
      "cell_type": "markdown",
      "metadata": {
        "id": "mVozjc_kx2CT",
        "colab_type": "text"
      },
      "source": [
        "Forward integration of hypoplastic model"
      ]
    },
    {
      "cell_type": "code",
      "metadata": {
        "id": "yr2J9L7lFzkk",
        "colab_type": "code",
        "colab": {}
      },
      "source": [
        "#model parameter\n",
        "C1p=-50\n",
        "C2p=-1352\n",
        "C3p=-316\n",
        "C4p=-1868\n",
        "#\n",
        "T1c=-100\n",
        "T2c=-100\n",
        "E1=0.\n",
        "E2=0.\n",
        "Ev=0.\n",
        "D2c=0.\n",
        "Evc=0.\n",
        "dT1c=0.\n",
        "#subtract model parameter\n",
        "soldT1=axeqq1.subs({C1:C1p, C2:C2p, C3:C3p, C4:C4p, D3:D2}) #dT1 add value \n",
        "soldT2=axeqq2.subs({C1:C1p, C2:C2p, C3:C3p, C4:C4p, D3:D2}) #dT2 add value\n",
        "\n",
        "#sol1=soldT2.subs({T1:T1c, T2:T2c, D1:D1c})\n",
        "#print(sol1)\n",
        "\n",
        "#forward integration\n",
        "df = pd.DataFrame(columns=['T1', 'T2','DT1', 'D1', 'D2', 'E1', 'E2', 'Ev'])\n",
        "D1c=-0.001 #strain increment\n",
        "laststrain=-0.1 #maximum strain\n",
        "while E1 > laststrain:\n",
        "    df = df.append({'T1': -T1c, 'T2':-T2c,'DT1': dT1c,'D1': D1c , 'D2': D2c, \\\n",
        "                    'E1':-100*E1 ,'E2':-100*E2, 'Ev':-100*Evc},\\\n",
        "                   ignore_index=True) #add Data to list\n",
        "    E1=E1+D1c #vertical strain\n",
        "    sol1=soldT2.subs({T1:T1c, T2:T2c, D1:D1c})\n",
        "    D2c=solve(sol1,D2)[0] #Solve D2 from dT2 =0 in triaxial test\n",
        "    E2=E2+D2c\n",
        "    dT1c=soldT1.subs({T1:T1c,T2:T2c, D1:D1c,D2:D2c}) #calculate dT1\n",
        "    T1c=T1c+dT1c #T1\n",
        "    Evc=E1+2*E2 #Volumetric strain    \n"
      ],
      "execution_count": 0,
      "outputs": []
    },
    {
      "cell_type": "code",
      "metadata": {
        "id": "w3d5LTJnLp52",
        "colab_type": "code",
        "outputId": "bb43451e-be35-45b1-8fa5-ba52876d0fda",
        "colab": {
          "base_uri": "https://localhost:8080/",
          "height": 558
        }
      },
      "source": [
        "#Plotting\n",
        "df=df.astype(float)\n",
        "df.plot(x ='E1', y='T1', kind = 'line')\n",
        "plt.ylabel('T1')\t\n",
        "plt.show\n",
        "df.plot(x ='E1', y='Ev', kind = 'line')\t\n",
        "plt.ylabel('Ev')\n",
        "plt.show"
      ],
      "execution_count": 25,
      "outputs": [
        {
          "output_type": "execute_result",
          "data": {
            "text/plain": [
              "<function matplotlib.pyplot.show>"
            ]
          },
          "metadata": {
            "tags": []
          },
          "execution_count": 25
        },
        {
          "output_type": "display_data",
          "data": {
            "image/png": "[encoded data removed]",
            "text/plain": [
              "<Figure size 432x288 with 1 Axes>"
            ]
          },
          "metadata": {
            "tags": []
          }
        },
        {
          "output_type": "display_data",
          "data": {
            "image/png": "[encoded data removed]",
            "text/plain": [
              "<Figure size 432x288 with 1 Axes>"
            ]
          },
          "metadata": {
            "tags": []
          }
        }
      ]
    },
    {
      "cell_type": "code",
      "metadata": {
        "id": "PX2WvREqIzQm",
        "colab_type": "code",
        "colab": {}
      },
      "source": [
        "#writing excel file\n",
        "df.to_excel(\"output.xlsx\") "
      ],
      "execution_count": 0,
      "outputs": []
    },
    {
      "cell_type": "code",
      "metadata": {
        "id": "wR-UbzZdLJ3Y",
        "colab_type": "code",
        "colab": {}
      },
      "source": [
        ""
      ],
      "execution_count": 0,
      "outputs": []
    }
  ]
}