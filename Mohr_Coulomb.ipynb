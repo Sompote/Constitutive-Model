{
  "nbformat": 4,
  "nbformat_minor": 0,
  "metadata": {
    "colab": {
      "name": "Mohr Coulomb",
      "provenance": [],
      "collapsed_sections": [],
      "authorship_tag": "ABX9TyPYaZibaLFDaiq3PW7eqp0X",
      "include_colab_link": true
    },
    "kernelspec": {
      "name": "python3",
      "display_name": "Python 3"
    }
  },
  "cells": [
    {
      "cell_type": "markdown",
      "metadata": {
        "id": "view-in-github",
        "colab_type": "text"
      },
      "source": [
        "<a href=\"https://colab.research.google.com/github/Sompote/Constitutive-Model/blob/master/Mohr_Coulomb.ipynb\" target=\"_parent\"><img src=\"https://colab.research.google.com/assets/colab-badge.svg\" alt=\"Open In Colab\"/></a>"
      ]
    },
    {
      "cell_type": "markdown",
      "metadata": {
        "id": "1m2kKwIdlmYQ",
        "colab_type": "text"
      },
      "source": [
        "Elasto plastic formulaiton\n",
        "Mohr Coulomb Model\n",
        "by Dr. Sompote Youwai 2020"
      ]
    },
    {
      "cell_type": "code",
      "metadata": {
        "id": "Uqc9-pNkRz0q",
        "colab_type": "code",
        "colab": {}
      },
      "source": [
        "from sympy import *\n",
        "G, K, M, Mp,v = symbols('G K M Mp v')\n",
        "q, p, es, ep = symbols('q p es ep')\n",
        "#definition\n",
        "strain = Matrix([ev,  es])"
      ],
      "execution_count": 0,
      "outputs": []
    },
    {
      "cell_type": "code",
      "metadata": {
        "id": "grMLOdRRR7JM",
        "colab_type": "code",
        "outputId": "95e21c85-aad7-4688-81ba-d06ae26dc7d6",
        "colab": {
          "base_uri": "https://localhost:8080/",
          "height": 68
        }
      },
      "source": [
        "\n",
        "ff=q-M*p #ff-yield function\n",
        "\n",
        "gg=q-Mp*p #gg-plastic potential function\n",
        "\n",
        "D=Matrix([[K, 0], [0, 3*G]]) #elastic matrix\n",
        "diff(ff, q)\n",
        "ffd=Matrix([diff(ff, p),diff(ff, q)])\n",
        "ggd=Matrix([diff(gg, p),diff(gg, q)])\n",
        "CMP=(D*ggd)*(ffd.T)*D / (ffd.T*(D*ggd))[0,0] #plastic part\n",
        "CM = D-CMP #constitutive matrix\n",
        "stress=CM*strain #stress matrix\n",
        "CM\n"
      ],
      "execution_count": 0,
      "outputs": [
        {
          "output_type": "execute_result",
          "data": {
            "text/plain": [
              "Matrix([\n",
              "[-K**2*M*Mp/(3*G + K*M*Mp) + K,      3*G*K*Mp/(3*G + K*M*Mp)],\n",
              "[       3*G*K*M/(3*G + K*M*Mp), -9*G**2/(3*G + K*M*Mp) + 3*G]])"
            ]
          },
          "metadata": {
            "tags": []
          },
          "execution_count": 13
        }
      ]
    },
    {
      "cell_type": "markdown",
      "metadata": {
        "id": "3nFWk-6W3bCd",
        "colab_type": "text"
      },
      "source": [
        "Stress state at yield stress\n",
        "Relation between es and ep"
      ]
    },
    {
      "cell_type": "code",
      "metadata": {
        "id": "xICa8tgNx4XQ",
        "colab_type": "code",
        "outputId": "c71bd62e-ed17-492a-de9a-574dc89e7104",
        "colab": {
          "base_uri": "https://localhost:8080/",
          "height": 34
        }
      },
      "source": [
        "EQ=stress[0,0] #delta q= 0\n",
        "EQ2=stress[1,0] #delta p =0\n",
        "solve(EQ, EQ2, ep)"
      ],
      "execution_count": 0,
      "outputs": [
        {
          "output_type": "execute_result",
          "data": {
            "text/plain": [
              "[{ep: -Mp*es}]"
            ]
          },
          "metadata": {
            "tags": []
          },
          "execution_count": 14
        }
      ]
    },
    {
      "cell_type": "markdown",
      "metadata": {
        "id": "jKaDFq8UDLx_",
        "colab_type": "text"
      },
      "source": [
        "Forward numerical integration"
      ]
    },
    {
      "cell_type": "code",
      "metadata": {
        "id": "XKFTOdFlz-Qj",
        "colab_type": "code",
        "outputId": "cb67f075-f491-4c4f-83a0-545f0f20a971",
        "colab": {
          "base_uri": "https://localhost:8080/",
          "height": 279
        }
      },
      "source": [
        "import matplotlib.pyplot as plt\n",
        "stressl=[0,0.1]\n",
        "strainl=[0,0.2]\n",
        "plt.plot(stressl,strainl)\n",
        "plt.ylabel('q')\n",
        "plt.xlabel('es')\n",
        "plt.show()"
      ],
      "execution_count": 0,
      "outputs": [
        {
          "output_type": "display_data",
          "data": {
            "image/png": "[encoded data removed]",
            "text/plain": [
              "<Figure size 432x288 with 1 Axes>"
            ]
          },
          "metadata": {
            "tags": []
          }
        }
      ]
    },
    {
      "cell_type": "code",
      "metadata": {
        "id": "5UCIOUyJE8nt",
        "colab_type": "code",
        "colab": {}
      },
      "source": [
        ""
      ],
      "execution_count": 0,
      "outputs": []
    }
  ]
}