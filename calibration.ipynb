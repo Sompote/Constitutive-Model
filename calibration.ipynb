{
  "nbformat": 4,
  "nbformat_minor": 0,
  "metadata": {
    "colab": {
      "name": "calibration.ipynb",
      "provenance": [],
      "authorship_tag": "ABX9TyMxZof3si4GmjxKyiZZHwmL",
      "include_colab_link": true
    },
    "kernelspec": {
      "name": "python3",
      "display_name": "Python 3"
    }
  },
  "cells": [
    {
      "cell_type": "markdown",
      "metadata": {
        "id": "view-in-github",
        "colab_type": "text"
      },
      "source": [
        "<a href=\"https://colab.research.google.com/github/Sompote/Constitutive-Model/blob/master/calibration.ipynb\" target=\"_parent\"><img src=\"https://colab.research.google.com/assets/colab-badge.svg\" alt=\"Open In Colab\"/></a>"
      ]
    },
    {
      "cell_type": "markdown",
      "metadata": {
        "id": "kSq8YWbHIWDf",
        "colab_type": "text"
      },
      "source": [
        "# Hypo plastic clibration Wus Model\n",
        "Kolymbas Book Page 44"
      ]
    },
    {
      "cell_type": "code",
      "metadata": {
        "id": "0Y1ihMBFIh8-",
        "colab_type": "code",
        "outputId": "3dc5236d-8e50-4595-ecfb-8b911c6ff76c",
        "colab": {
          "base_uri": "https://localhost:8080/",
          "height": 85
        }
      },
      "source": [
        "'''\n",
        "hypoplastic model Wu(1992)\n",
        "Parameter Calibraiton\n",
        "by Dr. Sompote Youwai\n",
        "KMUTT 2020\n",
        "'''\n",
        "import numpy as np\n",
        "from sympy import *\n",
        "from sympy.solvers import solve\n",
        "import pandas as pd\n",
        "import matplotlib.pyplot as plt\n",
        "\n",
        "\n",
        "from numpy import array #add symbol to system from sympy\n",
        "T1, T2, T3 = symbols('T1 T2 T3')\n",
        "D1, D2, D3 = symbols('D1 D2 D3')\n",
        "dT1, dT2, dT3 = symbols('dT1 dT2 dT3')\n",
        "C1, C2, C3, C4 = symbols('C1 C2 C3 C4')\n",
        "\n",
        "#from stress-straincurve\n",
        "Ea=20000.\n",
        "Ba=20.\n",
        "Bb=-15.\n",
        "qmax=-200.\n",
        "sig2=-100.\n",
        "#\n",
        "Bac=0.5*(1-np.tan(np.radians(Ba)))\n",
        "Bbc=0.5*(1-np.tan(np.radians(Bb)))\n",
        "\n",
        "T = array([[T1,0,0],[0,T2,0],[0,0,T2]]) #form tensor from array \n",
        "D = array([[D1,0,0],[0,D2,0],[0,0,D2]])\n",
        "dT= array([[dT1,0,0],[0,dT2,0],[0,0,dT2]])\n",
        "trT= T1+T2+T2\n",
        "trD=D1+D2+D2\n",
        "trD2=(D1**2)+(2*(D2**2))\n",
        "trTD =T1*D1+T2*D2+T2*D2\n",
        "Tstr=T-trT/3*array([[1,0,0],[0,1,0],[0,0,1]])\n",
        "#Hypoplastic Equation\n",
        "Eq=C1*trT*D+C2*trTD/trT*T+C3*T**2*sqrt(trD2)/trT+C4*(Tstr**2)*sqrt(trD2)/trT\n",
        "'''get value from array\n",
        "A at initial state\n",
        "B at faiure stage\n",
        "'''\n",
        "sT1=Eq[0,0] #dT1 get equation from array\n",
        "sT2=Eq[1,1] #dT2 get equation from array\n",
        "#input value from A and B stage\n",
        "T1a=sT1.subs({T1:sig2, T2:sig2, D1:-1,D2:Bac})\n",
        "T2a=sT2.subs({T1:sig2, T2:sig2, D1:-1, D2:Bac})\n",
        "T1b=sT1.subs({T1:qmax+sig2, T2:sig2, D1:-1, D2:Bbc})\n",
        "T2b=sT2.subs({T1:qmax+sig2, T2:sig2, D1:-1, D2:Bbc})\n",
        "solve([T1a+Ea,T2a,T1b,T2b]) #solve for model parameter"
      ],
      "execution_count": 0,
      "outputs": [
        {
          "output_type": "execute_result",
          "data": {
            "text/plain": [
              "{C1: -50.5811182660212,\n",
              " C2: -1352.59764697252,\n",
              " C3: -316.955674246324,\n",
              " C4: -1868.57716441092}"
            ]
          },
          "metadata": {
            "tags": []
          },
          "execution_count": 39
        }
      ]
    },
    {
      "cell_type": "markdown",
      "metadata": {
        "id": "4eq2w51gIUk0",
        "colab_type": "text"
      },
      "source": [
        ""
      ]
    }
  ]
}